{
  "nbformat": 4,
  "nbformat_minor": 0,
  "metadata": {
    "colab": {
      "provenance": []
    },
    "kernelspec": {
      "name": "python3",
      "display_name": "Python 3"
    },
    "language_info": {
      "name": "python"
    }
  },
  "cells": [
    {
      "cell_type": "code",
      "execution_count": 1,
      "metadata": {
        "id": "IJB6Y2ygfWV9"
      },
      "outputs": [],
      "source": [
        "#@app.route('/') # we create routes or url in flask, this means when someone enter / then this will be executed\n",
        "#after url when / is written then this will be route this index page\n",
        "#def index():\n",
        "#    return \"<h1 style='color:green'>Daniyal Khan</h1>\"\n",
        "#app.run(debug=True) #with debug when we change things then dont need to rerun if make changes in code"
      ]
    },
    {
      "cell_type": "code",
      "source": [
        "#flask run on server and it sends html css javascript files to client side\n",
        "#now our server is pycharm and client is our safari browser\n",
        "\n",
        "#we integrate page that we make with flask website so for that use render_template, it loads html files"
      ],
      "metadata": {
        "id": "dS0lKTBmoX0e"
      },
      "execution_count": 2,
      "outputs": []
    },
    {
      "cell_type": "code",
      "source": [
        "#for registration we need a database to store things\n",
        "#but now we will be using json file, a file and in that store things in dictionary form\n",
        "#first we bring data from client side(registration page) to flask then to json file store\n",
        "#we send data with get and post to server from clieant side\n",
        "#with get we send through url while with post we send sensitive info like password as with get people can see in url\n",
        "\n",
        "#now for receiving data we use request, and have to tell that by post data is coming to it"
      ],
      "metadata": {
        "id": "3IvfEHEGodsf"
      },
      "execution_count": 3,
      "outputs": []
    },
    {
      "cell_type": "code",
      "source": [
        "#when login is successfully done then we will be sending user to its profile\n",
        "    #so for sending from one route to another route we use redirect function"
      ],
      "metadata": {
        "id": "H3zSuvGjohrH"
      },
      "execution_count": 4,
      "outputs": []
    },
    {
      "cell_type": "code",
      "source": [
        "#but we can open /ner.html page from incognitive tab without logging in, so this is wrong, so to avoid this and make\n",
        "#like only registered people can access we make sessions, sessions make this functionalty happen\n",
        "\n",
        "#session is not implemented as error is showing but without session working fine"
      ],
      "metadata": {
        "id": "20QtmOHXop20"
      },
      "execution_count": 5,
      "outputs": []
    },
    {
      "cell_type": "code",
      "source": [
        "# <!--when user click on submit button then perform_registration\n",
        "#    page got open, as when we do action on html another page is opened that on server do the task\n",
        "\n",
        " #   and used post as password is there for data sending to server-->\n",
        " #post work with forms"
      ],
      "metadata": {
        "id": "7x9KjTYuovij"
      },
      "execution_count": 6,
      "outputs": []
    },
    {
      "cell_type": "code",
      "source": [
        "#    <!--we will write python is html using flask (jinja template)-->"
      ],
      "metadata": {
        "id": "8tecrRwVo8Rj"
      },
      "execution_count": 7,
      "outputs": []
    },
    {
      "cell_type": "code",
      "source": [
        "#API application programming interface\n",
        "#API is data pipeline between two softwares\n",
        "\n",
        "#irctc give api to bookmyticket pytm n other sites for booking ticket but real data is with irctc"
      ],
      "metadata": {
        "id": "7M54BiwIpB32"
      },
      "execution_count": 9,
      "outputs": []
    },
    {
      "cell_type": "code",
      "source": [
        "#API is just a function, but it is on server and if on server then have url, so any one can hit url give input\n",
        "#and get the output\n",
        "#and this output is in format json- jacascript on notation, it is universal data fromat understand by all languages\n",
        "#so software using different prog. lang can work together by this\n"
      ],
      "metadata": {
        "id": "ZNbZ5HOMtVe1"
      },
      "execution_count": 10,
      "outputs": []
    },
    {
      "cell_type": "code",
      "source": [
        "#we will create API on ipl dataset, giving query and it will tell according to the dataset\n",
        "#API will give rply in json format\n",
        "#we make differnt API for different things\n"
      ],
      "metadata": {
        "id": "gIe8Yq_Fv0B6"
      },
      "execution_count": 11,
      "outputs": []
    },
    {
      "cell_type": "code",
      "source": [
        "#now to check whether api is working fine or not we use postman to see whether we are getting data with api\n",
        "#because after creating api we need to see how other software can use that"
      ],
      "metadata": {
        "id": "-wWBnd6fNpDP"
      },
      "execution_count": null,
      "outputs": []
    },
    {
      "cell_type": "code",
      "source": [
        "#difference betwen api and website is that in case of api when we hit url then we get json in response and in case of\n",
        "#website we get html page in response"
      ],
      "metadata": {
        "id": "mVDI7H7jw3mu"
      },
      "execution_count": 1,
      "outputs": []
    },
    {
      "cell_type": "code",
      "source": [
        "#we can combine both the things like first make user to login into account then ask to generate API key\n",
        "#then use that and count the usage, we can make a full project on this\n",
        "\n",
        "#people get hire who know the complex data analysis and convert that to proper product"
      ],
      "metadata": {
        "id": "KMrcYg1p2c1H"
      },
      "execution_count": 2,
      "outputs": []
    },
    {
      "cell_type": "code",
      "source": [
        "#if we connect to csv file then we have static data but when connect to database then can have dynamic data,\n",
        "#like data adding to database will be part of our dataframe and in ipl analysis api that new data will be part of\n",
        "#api and added to result"
      ],
      "metadata": {
        "id": "ZropN5nC5DDE"
      },
      "execution_count": 3,
      "outputs": []
    },
    {
      "cell_type": "code",
      "source": [
        "#rapidAPI is a market place for telling world your API"
      ],
      "metadata": {
        "id": "4IhIb-eo524y"
      },
      "execution_count": null,
      "outputs": []
    }
  ]
}